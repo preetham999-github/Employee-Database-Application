{
 "cells": [
  {
   "cell_type": "markdown",
   "id": "c890e799",
   "metadata": {},
   "source": [
    "# Employee Database Application"
   ]
  },
  {
   "cell_type": "code",
   "execution_count": 112,
   "id": "8108f38b",
   "metadata": {},
   "outputs": [],
   "source": [
    "class Vehicle:\n",
    "    def __init__(self, vmk, vmd, vy, vml):\n",
    "        self.__make = vmk\n",
    "        self.__model = vmd\n",
    "        self.__year = vy\n",
    "        self.__mileage = vml\n",
    "\n",
    "    def get_make(self):\n",
    "        return self.__make\n",
    "\n",
    "    def get_model(self):\n",
    "        return self.__model\n",
    "\n",
    "    def get_year(self):\n",
    "        return self.__year\n",
    "\n",
    "    def get_mileage(self):\n",
    "        return self.__mileage\n",
    "\n",
    "    def set_make(self, vmk):\n",
    "        self.__make = vmk\n",
    "\n",
    "    def set_model(self, vmd):\n",
    "        self.__model = vmd\n",
    "\n",
    "    def set_year(self, vy):\n",
    "        self.__year = vy\n",
    "\n",
    "    def set_mileage(self, vml):\n",
    "        self.__mileage = vml\n",
    "\n",
    "    def __str__(self):\n",
    "        return \"Make: \" + self.__make + \"; Model: \" + self.__model + \"; Year of Manufacture: \" + str(self.__year) + \"; Mileage: \" + str(self.__mileage)\n",
    "\n",
    "\n"
   ]
  },
  {
   "cell_type": "code",
   "execution_count": 113,
   "id": "271f6d18",
   "metadata": {},
   "outputs": [
    {
     "name": "stdout",
     "output_type": "stream",
     "text": [
      "Make: Honda; Model: Civic; Year of Manufacture: 2014; Mileage: 50000\n",
      "The mileage of this vehicle is: 50000\n",
      "The year of manufacture of this vehicle is: 2012\n"
     ]
    }
   ],
   "source": [
    "vehicle1=Vehicle(\"Honda\",\"Civic\",2014,50000)\n",
    "print(vehicle1)\n",
    "print(\"The mileage of this vehicle is:\", vehicle1.get_mileage())\n",
    "vehicle1.set_year(2012)\n",
    "print(\"The year of manufacture of this vehicle is:\", vehicle1.get_year())"
   ]
  },
  {
   "cell_type": "code",
   "execution_count": 114,
   "id": "07b18175",
   "metadata": {},
   "outputs": [],
   "source": [
    "class Employee:\n",
    "\n",
    "    def __init__(self, nm, addr, veh):\n",
    "        self.__emp_name = nm\n",
    "        self.__emp_addr = addr\n",
    "        self.__vehicle = veh\n",
    "    def get_emp_name(self):\n",
    "        return self.__emp_name\n",
    "    def get_emp_addr(self):\n",
    "        return self.__emp_addr\n",
    "    def get_vehicle(self):\n",
    "        return self.__vehicle\n",
    "    def set_emp_name(self, nm):\n",
    "        self.__emp_name = nm\n",
    "    def set_emp_addr(self, addr):\n",
    "        self.__emp_addr = addr\n",
    "    def set_vehicle(self, veh):\n",
    "        self.__vehicle = veh\n",
    "    def compute_compensation(self):\n",
    "        pass\n",
    "    def __str__(self):\n",
    "        allData = \"\\nEmployee Name: \" + self.__emp_name\n",
    "        allData += \"; Employee Address: \" + str(self.__emp_addr)\n",
    "        allData +=  \"\\n\" + self.__vehicle.__str__()\n",
    "        return allData"
   ]
  },
  {
   "cell_type": "code",
   "execution_count": 115,
   "id": "0ca542cc",
   "metadata": {},
   "outputs": [
    {
     "name": "stdout",
     "output_type": "stream",
     "text": [
      "\n",
      "Employee Name: Amy; Employee Address: 100 W Campbell Road, Richardson, Texas, 75080\n",
      "Make: Honda; Model: Civic; Year of Manufacture: 2012; Mileage: 50000\n",
      "Amy lives at 100 W Campbell Road, Richardson, Texas, 75080.\n",
      "Amy owns a Honda Civic vehicle.\n",
      "Amy lives at 800 E Campbell Road, Richardson, Texas, 75080.\n"
     ]
    }
   ],
   "source": [
    "emp1=Employee(\"Amy\", \"100 W Campbell Road, Richardson, Texas, 75080\",vehicle1)\n",
    "print(emp1)\n",
    "print(\"{0} lives at {1}.\".format(emp1.get_emp_name(),emp1.get_emp_addr()))\n",
    "print(\"{0} owns a {1} {2} vehicle.\".format(emp1.get_emp_name(),emp1.get_vehicle().get_make(),emp1.get_vehicle().get_model()))\n",
    "emp1.set_emp_addr(\"800 E Campbell Road, Richardson, Texas, 75080\")\n",
    "print(\"{0} lives at {1}.\".format(emp1.get_emp_name(),emp1.get_emp_addr()))"
   ]
  },
  {
   "cell_type": "code",
   "execution_count": 116,
   "id": "9edea979",
   "metadata": {},
   "outputs": [],
   "source": [
    "class FullTimeEmployee(Employee):\n",
    "\n",
    "\n",
    "    def __init__(self, nm, addr, veh, sal):\n",
    "        Employee.__init__(self,nm, addr, veh)\n",
    "        self.__salary = sal\n",
    "    def get_salary(self):\n",
    "        return self.__salary\n",
    "    def set_salary(self, sal):\n",
    "        self.__salary = sal\n",
    "    def compute_compensation(self):\n",
    "        if self.__salary <= 25000:\n",
    "            annual_compensation = self.__salary * (1 - 0.18)\n",
    "        elif self.__salary <= 55000:\n",
    "            annual_compensation = (self.__salary - 25000) * (1 - 0.28) + 20500\n",
    "        else:\n",
    "            annual_compensation = (self.__salary - 55000) * (1 - 0.33) + 42100\n",
    "        return (annual_compensation/52)\n",
    "    def compute_reimbursement(self,ae):\n",
    "            if ae <= 10000:\n",
    "                 self.__re = ae/52\n",
    "            else:\n",
    "                 self.__re = (10000+(0.5*(ae-10000)))/52\n",
    "            return self.__re\n",
    "    def __str__(self):\n",
    "        childData = super().__str__()\n",
    "        childData = \"\\nDetails of this Full Time Employee are:\" + childData\n",
    "        childData += \"\\nSalary: \" + '{0:0.2f}'.format(self.__salary)\n",
    "        return childData"
   ]
  },
  {
   "cell_type": "code",
   "execution_count": 117,
   "id": "311ffbcb",
   "metadata": {},
   "outputs": [
    {
     "name": "stdout",
     "output_type": "stream",
     "text": [
      "\n",
      "Details of this Full Time Employee are:\n",
      "Employee Name: Amy; Employee Address: 100 W Campbell Road, Richardson, Texas, 75080\n",
      "Make: Honda; Model: Civic; Year of Manufacture: 2012; Mileage: 50000\n",
      "Salary: 40000.00\n",
      "Amy has an annual salary of $40000.\n",
      "Amy has a weekly compensation of $601.92.\n",
      "Amy has a weekly reimbursement of $211.54.\n",
      "Amy has an annual salary of $50000.\n"
     ]
    }
   ],
   "source": [
    "emp2=FullTimeEmployee(\"Amy\", \"100 W Campbell Road, Richardson, Texas, 75080\", vehicle1, 40000)\n",
    "print(emp2)\n",
    "print(\"{0} has an annual salary of ${1}.\".format(emp2.get_emp_name(),emp2.get_salary()))\n",
    "print(\"{0} has a weekly compensation of ${1:0.2f}.\".format(emp2.get_emp_name(),emp2.compute_compensation()))\n",
    "print(\"{0} has a weekly reimbursement of ${1:0.2f}.\".format(emp2.get_emp_name(),emp2.compute_reimbursement(12000)))\n",
    "emp2.set_salary(50000)\n",
    "print(\"{0} has an annual salary of ${1}.\".format(emp2.get_emp_name(),emp2.get_salary()))\n"
   ]
  },
  {
   "cell_type": "code",
   "execution_count": 118,
   "id": "6de1909f",
   "metadata": {},
   "outputs": [],
   "source": [
    "class HourlyEmployee(Employee):\n",
    "\n",
    "    def __init__(self, nm, addr, veh, hw, hr):\n",
    "        Employee.__init__(self,nm, addr, veh)\n",
    "        self.__hours_wrkd = hw\n",
    "        self.__hourly_rate = hr\n",
    "    def get_hours_worked(self):\n",
    "        return self.__hours_wrkd\n",
    "    def get_hourly_rate(self):\n",
    "        return self.__hourly_rate\n",
    "    def set_hours_worked(self, hw):\n",
    "        self.__hours_wrkd = hw\n",
    "    def set_hourly_rate(self, hr):\n",
    "        self.__hourly_rate = hr\n",
    "    def compute_compensation(self):\n",
    "        if self.__hours_wrkd > 40:\n",
    "            return self.__hourly_rate * 40 + self.__hourly_rate * 1.8 * (self.__hours_wrkd - 40)\n",
    "        else:\n",
    "            return self.__hourly_rate * self.__hours_wrkd\n",
    "    def compute_reimbursement(self,we):\n",
    "            if we <= 100:\n",
    "                 self.__we = we\n",
    "            else:\n",
    "                 self.__we = 100\n",
    "            return self.__we\n",
    "    def __str__(self):\n",
    "        childData = super().__str__()\n",
    "        childData = \"\\nDetails of this Hourly Employee are:\" + childData\n",
    "        childData += \"\\nHours Worked: \" + str(self.__hours_wrkd)\n",
    "        childData += \"; Hourly Rate: \" + str(self.__hourly_rate)\n",
    "        return childData"
   ]
  },
  {
   "cell_type": "code",
   "execution_count": 119,
   "id": "e8d3e0a8",
   "metadata": {},
   "outputs": [
    {
     "name": "stdout",
     "output_type": "stream",
     "text": [
      "\n",
      "Details of this Hourly Employee are:\n",
      "Employee Name: Grace; Employee Address: 400 W Campbell Road, Richardson, Texas, 75080\n",
      "Make: Honda; Model: Civic; Year of Manufacture: 2012; Mileage: 50000\n",
      "Hours Worked: 50; Hourly Rate: 20\n",
      "Grace works 50 hours per week at an hourly rate of $20.\n",
      "Grace has a weekly compensation of $1160.00.\n",
      "Grace has a weekly reimbursement of $100.00.\n",
      "Grace works 50 hours per week at an hourly rate of $22.\n"
     ]
    }
   ],
   "source": [
    "emp3=HourlyEmployee(\"Grace\", \"400 W Campbell Road, Richardson, Texas, 75080\", vehicle1,50,20)\n",
    "print(emp3)\n",
    "print(\"{0} works {1} hours per week at an hourly rate of ${2}.\".format(emp3.get_emp_name(),emp3.get_hours_worked(),emp3.get_hourly_rate()))\n",
    "print(\"{0} has a weekly compensation of ${1:0.2f}.\".format(emp3.get_emp_name(),emp3.compute_compensation()))\n",
    "print(\"{0} has a weekly reimbursement of ${1:0.2f}.\".format(emp3.get_emp_name(),emp3.compute_reimbursement(120)))\n",
    "emp3.set_hourly_rate(22)\n",
    "print(\"{0} works {1} hours per week at an hourly rate of ${2}.\".format(emp3.get_emp_name(),emp3.get_hours_worked(),emp3.get_hourly_rate()))\n"
   ]
  },
  {
   "cell_type": "code",
   "execution_count": 120,
   "id": "c10f9bac",
   "metadata": {},
   "outputs": [],
   "source": [
    "class Consultant(Employee):\n",
    "\n",
    "    def __init__(self, nm, addr, veh, hw, pt):\n",
    "        Employee.__init__(self, nm, addr, veh)\n",
    "        self.__hours_wrkd = hw\n",
    "        self.__project_type = pt\n",
    "    def get_hours_worked(self):\n",
    "        return self.__hours_wrkd\n",
    "    def get_project_type(self):\n",
    "        return self.__project_type\n",
    "    def set_hours_worked(self, hw):\n",
    "        self.__hours_wrkd = hw\n",
    "    def set_project_type(self, pt):\n",
    "        self.__project_type = pt\n",
    "    def compute_compensation(self):\n",
    "        if self.__project_type == 1:\n",
    "            hrly_rate = 55\n",
    "        elif self.__project_type == 2:\n",
    "            hrly_rate = 70\n",
    "        else:\n",
    "            hrly_rate = 85\n",
    "        return self.__hours_wrkd * hrly_rate\n",
    "    def compute_reimbursement(self,we):\n",
    "            if self.__project_type == 1:\n",
    "                 self.__we = we\n",
    "            elif self.__project_type == 2:\n",
    "                 self.__we = 0.9*we\n",
    "            elif self.__project_type == 3:\n",
    "                 self.__we = 0.8*we   \n",
    "            return self.__we\n",
    "    def __str__(self):\n",
    "        childData = super().__str__()\n",
    "        childData = \"\\nDetails of this Consultant are:\" + childData\n",
    "        childData += \"\\nHours Worked: \" + str(self.__hours_wrkd)\n",
    "        childData += \"; Project Type: \" + str(self.__project_type)\n",
    "        return childData"
   ]
  },
  {
   "cell_type": "code",
   "execution_count": 121,
   "id": "37948bbf",
   "metadata": {},
   "outputs": [
    {
     "name": "stdout",
     "output_type": "stream",
     "text": [
      "\n",
      "Details of this Consultant are:\n",
      "Employee Name: Michael; Employee Address: 700 W Campbell Road, Richardson, Texas, 75080\n",
      "Make: Honda; Model: Civic; Year of Manufacture: 2012; Mileage: 50000\n",
      "Hours Worked: 40; Project Type: 2\n",
      "Michael works 40 hours per week for type 2 project.\n",
      "Michael has a weekly compensation of $2800.00.\n",
      "Michael has a weekly reimbursement of $270.00.\n",
      "Michael works 35 hours per week for type 2 project.\n"
     ]
    }
   ],
   "source": [
    "emp4=Consultant(\"Michael\", \"700 W Campbell Road, Richardson, Texas, 75080\",vehicle1,40,2)\n",
    "print(emp4)\n",
    "print(\"{0} works {1} hours per week for type {2} project.\".format(emp4.get_emp_name(),emp4.get_hours_worked(),emp4.get_project_type()))\n",
    "print(\"{0} has a weekly compensation of ${1:0.2f}.\".format(emp4.get_emp_name(),emp4.compute_compensation()))\n",
    "print(\"{0} has a weekly reimbursement of ${1:0.2f}.\".format(emp4.get_emp_name(),emp4.compute_reimbursement(300)))\n",
    "emp4.set_hours_worked(35)\n",
    "print(\"{0} works {1} hours per week for type {2} project.\".format(emp4.get_emp_name(),emp4.get_hours_worked(),emp4.get_project_type()))\n"
   ]
  },
  {
   "cell_type": "code",
   "execution_count": 122,
   "id": "71a3f991",
   "metadata": {},
   "outputs": [],
   "source": [
    "class Management(FullTimeEmployee,Consultant):\n",
    "\n",
    "    def __init__(self,nm,adr,veh,sal,hw,pt):\n",
    "        Employee.__init__(self,nm,adr,veh)\n",
    "        FullTimeEmployee.__init__(self,nm,adr,veh,sal)\n",
    "        Consultant.__init__(self,nm,adr,veh,hw,pt)      \n",
    "    def compute_compensation(self):\n",
    "        self.__comp= (FullTimeEmployee.compute_compensation(self)+Consultant.compute_compensation(self))\n",
    "        return self.__comp\n",
    "    def compute_reimbursement(self, ae, we):\n",
    "        self.__reim= (FullTimeEmployee.compute_reimbursement(self,ae)+Consultant.compute_reimbursement(self,we))\n",
    "        return self.__reim\n",
    "    def __str__(self):\n",
    "        childData = \"\\nDetails of this Management are: \\n\" +\"Employee Name: \"+(self.get_emp_name())+\"; Employee Address: \"+(self.get_emp_addr())+\"\\n\"+str(self.get_vehicle())+\"\\nSalary: {:.2f}\".format(float((self.get_salary())))+ \"; Hours Worked: \"+str(self.get_hours_worked())+\"; Project Type: \"+str(self.get_project_type())\n",
    "        return childData "
   ]
  },
  {
   "cell_type": "code",
   "execution_count": 123,
   "id": "22de58ad",
   "metadata": {},
   "outputs": [
    {
     "name": "stdout",
     "output_type": "stream",
     "text": [
      "\n",
      "Details of this Management are: \n",
      "Employee Name: Jane; Employee Address: 1000 W Campbell Road, Richardson, Texas, 75080\n",
      "Make: Honda; Model: Civic; Year of Manufacture: 2012; Mileage: 50000\n",
      "Salary: 120000.00; Hours Worked: 10; Project Type: 3\n",
      "\n",
      "\n",
      "Jane has an annual salary of $120000.\n",
      "Jane works 10 hours per week for type 3 project.\n",
      "Jane has a weekly compensation of $2497.12.\n",
      "Jane has a weekly reimbursement of $393.85.\n"
     ]
    }
   ],
   "source": [
    "emp5=Management(\"Jane\", \"1000 W Campbell Road, Richardson, Texas, 75080\",vehicle1,120000,10,3)\n",
    "print(emp5)\n",
    "print(\"\\n\")\n",
    "print(\"{0} has an annual salary of ${1}.\".format(emp5.get_emp_name(),emp5.get_salary()))\n",
    "print(\"{0} works {1} hours per week for type {2} project.\".format(emp5.get_emp_name(),emp5.get_hours_worked(),emp5.get_project_type()))\n",
    "print(\"{0} has a weekly compensation of ${1:0.2f}.\".format(emp5.get_emp_name(),emp5.compute_compensation()))\n",
    "print(\"{0} has a weekly reimbursement of ${1:0.2f}.\".format(emp5.get_emp_name(),emp5.compute_reimbursement(8000,300)))\n"
   ]
  },
  {
   "cell_type": "code",
   "execution_count": 124,
   "id": "f60d1e95",
   "metadata": {},
   "outputs": [],
   "source": [
    "def get_emp_input():\n",
    "    name = input(\"Enter the employee's name: \")\n",
    "    address = input(\"Enter the employee's address: \")\n",
    "    return name, address"
   ]
  },
  {
   "cell_type": "code",
   "execution_count": 125,
   "id": "5063813e",
   "metadata": {},
   "outputs": [
    {
     "name": "stdout",
     "output_type": "stream",
     "text": [
      "Enter the employee's name: Bob\n",
      "Enter the employee's address: 350 E Campbell Road, Richardson, Texas, 75080\n",
      "Bob lives at 350 E Campbell Road, Richardson, Texas, 75080.\n"
     ]
    }
   ],
   "source": [
    "name, address=get_emp_input()\n",
    "print(\"{0} lives at {1}.\".format(name,address))"
   ]
  },
  {
   "cell_type": "code",
   "execution_count": 159,
   "id": "8ecf8f19",
   "metadata": {},
   "outputs": [],
   "source": [
    "def get_vehicle_input():\n",
    "    veh_make = input('Enter the vehicle make: ')\n",
    "    veh_model = input('Enter the vehicle model: ')\n",
    "\n",
    "    while(True):\n",
    "        try:\n",
    "            veh_year = int(input('Enter the year of manufacture (yyyy): '))\n",
    "            if veh_year < 1900 or veh_year > 2023: \n",
    "                raise ValueError\n",
    "            break\n",
    "        except ValueError:\n",
    "                print('Please enter an integer value for year in the format of yyyy between 1900 and 2023.') \n",
    "\n",
    "    while(True):\n",
    "        try:       \n",
    "            veh_mileage = int(input('Enter the mileage: '))\n",
    "            if veh_mileage < 0:\n",
    "                raise ValueError\n",
    "            break\n",
    "        except ValueError:\n",
    "                print('Please enter a positive number for mileage.') \n",
    "\n",
    "    return (veh_make, veh_model, veh_year, veh_mileage)"
   ]
  },
  {
   "cell_type": "code",
   "execution_count": 160,
   "id": "2b291a53",
   "metadata": {},
   "outputs": [
    {
     "name": "stdout",
     "output_type": "stream",
     "text": [
      "Enter the vehicle make: Ford\n",
      "Enter the vehicle model: Ranger\n",
      "Enter the year of manufacture (yyyy): 2025\n",
      "Please enter an integer value for year in the format of yyyy between 1900 and 2023.\n",
      "Enter the year of manufacture (yyyy): 2015\n",
      "Enter the mileage: 80000\n",
      "The vehicle entered is a Ford Ranger made in 2015 with 80000 mileage curently.\n"
     ]
    }
   ],
   "source": [
    "vehiclemake, vehiclemodel, vehicleyear, vehiclemileage = get_vehicle_input()  \n",
    "print(\"The vehicle entered is a {0} {1} made in {2} with {3} mileage curently.\".format(vehiclemake, vehiclemodel, vehicleyear, vehiclemileage))"
   ]
  },
  {
   "cell_type": "code",
   "execution_count": 128,
   "id": "587c4402",
   "metadata": {},
   "outputs": [],
   "source": [
    "def get_full_time_input():\n",
    "    salary = float(input(\"Enter the annual salary: \"))\n",
    "    return salary"
   ]
  },
  {
   "cell_type": "code",
   "execution_count": 129,
   "id": "ae3e263a",
   "metadata": {},
   "outputs": [
    {
     "name": "stdout",
     "output_type": "stream",
     "text": [
      "Enter the annual salary: 80000\n",
      "The annual salary entered is 80000.00\n"
     ]
    }
   ],
   "source": [
    "salary=get_full_time_input()\n",
    "print(\"The annual salary entered is {0:0.2f}\".format(salary))"
   ]
  },
  {
   "cell_type": "code",
   "execution_count": 130,
   "id": "d43b0771",
   "metadata": {},
   "outputs": [],
   "source": [
    "def get_hourly_input():\n",
    "    hours_worked = int(input(\"Enter the hours worked: \"))\n",
    "    hourly_rate = float(input(\"Enter the hourly rate: \"))\n",
    "    return hours_worked,hourly_rate"
   ]
  },
  {
   "cell_type": "code",
   "execution_count": 131,
   "id": "6a53296f",
   "metadata": {},
   "outputs": [
    {
     "name": "stdout",
     "output_type": "stream",
     "text": [
      "Enter the hours worked: 30\n",
      "Enter the hourly rate: 20\n",
      "This hourly employee works 30 hours per week at an hourly rate of $20.00\n"
     ]
    }
   ],
   "source": [
    "hours_worked, hourly_rate = get_hourly_input()\n",
    "print(\"This hourly employee works {0} hours per week at an hourly rate of ${1:0.2f}\".format(hours_worked,hourly_rate))"
   ]
  },
  {
   "cell_type": "code",
   "execution_count": 132,
   "id": "40db5a74",
   "metadata": {},
   "outputs": [],
   "source": [
    "def get_consultant_input():\n",
    "    hours_worked = int(input(\"Enter the hours worked: \"))\n",
    "    project_type = int(input(\"Project Type? (Enter a number between 1 and 3): \"))\n",
    "    return hours_worked, project_type"
   ]
  },
  {
   "cell_type": "code",
   "execution_count": 133,
   "id": "d8a4752f",
   "metadata": {},
   "outputs": [
    {
     "name": "stdout",
     "output_type": "stream",
     "text": [
      "Enter the hours worked: 40\n",
      "Project Type? (Enter a number between 1 and 3): 2\n",
      "This consultant works 40 hours per week for type 2 project.\n"
     ]
    }
   ],
   "source": [
    "hours_worked, project_type = get_consultant_input()\n",
    "print(\"This consultant works {0} hours per week for type {1} project.\".format(hours_worked,project_type))"
   ]
  },
  {
   "cell_type": "code",
   "execution_count": 134,
   "id": "a41c2237",
   "metadata": {},
   "outputs": [],
   "source": [
    "def get_management_input():\n",
    "    salary = float(input(\"Enter the annual salary: \"))\n",
    "    hours_worked = int(input(\"Enter the hours worked: \"))\n",
    "    project_type = int(input(\"Project Type? (Enter a number between 1 and 3): \"))\n",
    "    return salary, hours_worked, project_type"
   ]
  },
  {
   "cell_type": "code",
   "execution_count": 135,
   "id": "97648cbc",
   "metadata": {},
   "outputs": [
    {
     "name": "stdout",
     "output_type": "stream",
     "text": [
      "Enter the annual salary: 100000\n",
      "Enter the hours worked: 8\n",
      "Project Type? (Enter a number between 1 and 3): 3\n",
      "This management has an annual salary of $100000.00. This management also works 8 hours per week additionally for type 3 project.\n"
     ]
    }
   ],
   "source": [
    "salary, hours_worked, project_type = get_management_input()\n",
    "print(\"This management has an annual salary of ${0:0.2f}. This management also works {1} hours per week additionally for type {2} project.\".format(salary, hours_worked,project_type))"
   ]
  },
  {
   "cell_type": "code",
   "execution_count": 136,
   "id": "f070de5c",
   "metadata": {},
   "outputs": [],
   "source": [
    "import pickle\n",
    "import sys\n",
    "def read_file_data():\n",
    "    with open('empdata.dat', 'rb') as f:\n",
    "        emp_list =[]\n",
    "        while(1):\n",
    "            try:\n",
    "                emp_list.append(pickle.load(f))\n",
    "            except EOFError:\n",
    "                break\n",
    "            except:\n",
    "                pass\n",
    "    return emp_list"
   ]
  },
  {
   "cell_type": "code",
   "execution_count": 137,
   "id": "6d0a76d1",
   "metadata": {},
   "outputs": [
    {
     "name": "stdout",
     "output_type": "stream",
     "text": [
      "There are 9 employees stored in the database.\n",
      "\n",
      "Below is the information of the first employee in the database: \n",
      "Details of this Full Time Employee are:\n",
      "Employee Name: Amy; Employee Address: 100 W Campbell Road, Richardson, Texas, 75080\n",
      "Make: Honda; Model: Civic; Year of Manufacture: 2014; Mileage: 50000\n",
      "Salary: 40000.00\n",
      "\n",
      "Amy is the first employee.\n"
     ]
    }
   ],
   "source": [
    "emp_list=read_file_data()\n",
    "print(\"There are {} employees stored in the database.\".format(len(emp_list)))\n",
    "print(\"\\nBelow is the information of the first employee in the database: {}\".format(emp_list[0]))\n",
    "print(\"\\n{} is the first employee.\".format(emp_list[0].get_emp_name()))"
   ]
  },
  {
   "cell_type": "code",
   "execution_count": 138,
   "id": "50ff5b2f",
   "metadata": {},
   "outputs": [],
   "source": [
    "def run_option1():\n",
    "\n",
    "    while(1):\n",
    "        try:\n",
    "            emp_type = int(input(\"Enter the employee type(1-Full Time;2-Hourly;3-Consultant;4-Management)\"))\n",
    "            if emp_type<1 or emp_type>4:\n",
    "                raise ValueError\n",
    "            else:\n",
    "                break\n",
    "        except ValueError:\n",
    "            print(\"Please select an option from 1, 2, 3, and 4\")\n",
    " \n",
    "         \n",
    "    name, address = get_emp_input()\n",
    "    \n",
    "    \n",
    "    vehiclemake, vehiclemodel, vehicleyear, vehiclemileage = get_vehicle_input()    \n",
    "    \n",
    "    \n",
    "    a_vehicle = Vehicle(vehiclemake, vehiclemodel, vehicleyear, vehiclemileage)\n",
    "    \n",
    "   \n",
    "    if emp_type == 1:\n",
    "        sal = get_full_time_input()\n",
    "        an_emp = FullTimeEmployee(name, address, a_vehicle,sal)\n",
    "    elif emp_type == 2:\n",
    "        hw, hr = get_hourly_input()\n",
    "        an_emp = HourlyEmployee(name, address, a_vehicle, hw, hr)\n",
    "    elif emp_type == 3:\n",
    "        hw, pt = get_consultant_input()\n",
    "        an_emp = Consultant(name, address, a_vehicle, hw, pt)\n",
    "    elif emp_type ==4:\n",
    "        sal, hw, pt = get_management_input()\n",
    "        an_emp = Management(name, address, a_vehicle, sal, hw, pt)\n",
    "    \n",
    "    print(an_emp)\n",
    "    \n",
    "    print(\"\\n============================================================\")        \n",
    "    print(\"New employee entered successfully! Now going to the main menu.\")\n",
    "    print(\"==============================================================\")       \n",
    "    return an_emp    \n"
   ]
  },
  {
   "cell_type": "code",
   "execution_count": 139,
   "id": "c686d039",
   "metadata": {},
   "outputs": [
    {
     "name": "stdout",
     "output_type": "stream",
     "text": [
      "Enter the employee type(1-Full Time;2-Hourly;3-Consultant;4-Management)5\n",
      "Please select an option from 1, 2, 3, and 4\n",
      "Enter the employee type(1-Full Time;2-Hourly;3-Consultant;4-Management)zzz\n",
      "Please select an option from 1, 2, 3, and 4\n",
      "Enter the employee type(1-Full Time;2-Hourly;3-Consultant;4-Management)4\n",
      "Enter the employee's name: David\n",
      "Enter the employee's address: 103 E Campbell Road, Richardson, Texas, 75080\n",
      "Enter the vehicle make: BMW\n",
      "Enter the vehicle model: X3\n",
      "Enter the year of manufacture (yyyy): 2018\n",
      "Enter the mileage: 5000\n",
      "Enter the annual salary: 110000\n",
      "Enter the hours worked: 5\n",
      "Project Type? (Enter a number between 1 and 3): 2\n",
      "\n",
      "Details of this Management are: \n",
      "Employee Name: David; Employee Address: 103 E Campbell Road, Richardson, Texas, 75080\n",
      "Make: BMW; Model: X3; Year of Manufacture: 2018; Mileage: 5000\n",
      "Salary: 110000.00; Hours Worked: 5; Project Type: 2\n",
      "\n",
      "============================================================\n",
      "New employee entered successfully! Now going to the main menu.\n",
      "==============================================================\n"
     ]
    },
    {
     "data": {
      "text/plain": [
       "<__main__.Management at 0x1f7e99d7940>"
      ]
     },
     "execution_count": 139,
     "metadata": {},
     "output_type": "execute_result"
    }
   ],
   "source": [
    "run_option1()"
   ]
  },
  {
   "cell_type": "code",
   "execution_count": 140,
   "id": "3cfa3ef3",
   "metadata": {},
   "outputs": [],
   "source": [
    "def run_option2(my_lst):\n",
    "    while(1):\n",
    "        try:\n",
    "            emp_count = int(input(\"Do you want to see information of all employees (input 1) or the first 5 employees (input 2)? \"))\n",
    "            if emp_count == 1 or emp_count==2:\n",
    "                break\n",
    "            else:\n",
    "                raise ValueError\n",
    "        except ValueError:\n",
    "            print(\"Please select 1 or 2\")\n",
    "    if emp_count == 1:\n",
    "        print(\"\\n============================================================\")        \n",
    "        print(\"Below is the information of all the employees stored in the database.\")\n",
    "        print(\"==============================================================\")\n",
    "        for i in range(0,len(my_lst)):\n",
    "            print(my_lst[i])\n",
    "    else:\n",
    "        if len(my_lst) >= 5:\n",
    "            print(\"==========================================================================\")\n",
    "            print(\"Below is the information of the first 5 employees stored in the database.\")\n",
    "            print(\"==========================================================================\")\n",
    "            for i in range(0,5):\n",
    "                print(my_lst[i])\n",
    "        else:\n",
    "            print(\"\\n============================================================\")        \n",
    "            print(\"Below is the information of all the employees stored in the database.\")\n",
    "            print(\"==============================================================\")\n",
    "            for i in range(0,len(my_lst)):\n",
    "                print(my_lst[i])"
   ]
  },
  {
   "cell_type": "code",
   "execution_count": 141,
   "id": "a9dbf369",
   "metadata": {},
   "outputs": [
    {
     "name": "stdout",
     "output_type": "stream",
     "text": [
      "Do you want to see information of all employees (input 1) or the first 5 employees (input 2)? 3\n",
      "Please select 1 or 2\n",
      "Do you want to see information of all employees (input 1) or the first 5 employees (input 2)? zzz\n",
      "Please select 1 or 2\n",
      "Do you want to see information of all employees (input 1) or the first 5 employees (input 2)? 2\n",
      "==========================================================================\n",
      "Below is the information of the first 5 employees stored in the database.\n",
      "==========================================================================\n",
      "\n",
      "Details of this Full Time Employee are:\n",
      "Employee Name: Amy; Employee Address: 100 W Campbell Road, Richardson, Texas, 75080\n",
      "Make: Honda; Model: Civic; Year of Manufacture: 2014; Mileage: 50000\n",
      "Salary: 40000.00\n",
      "\n",
      "Details of this Full Time Employee are:\n",
      "Employee Name: Bob; Employee Address: 200 W Campbell Road, Richardson, Texas, 75080\n",
      "Make: Toyota; Model: Camry; Year of Manufacture: 2010; Mileage: 60000\n",
      "Salary: 80000.00\n",
      "\n",
      "Details of this Full Time Employee are:\n",
      "Employee Name: Evan; Employee Address: 300 W Campbell Road, Richardson, Texas, 75080\n",
      "Make: BMW; Model: X3; Year of Manufacture: 2016; Mileage: 30000\n",
      "Salary: 120000.00\n",
      "\n",
      "Details of this Hourly Employee are:\n",
      "Employee Name: Grace; Employee Address: 400 W Campbell Road, Richardson, Texas, 75080\n",
      "Make: Kia; Model: Rio; Year of Manufacture: 2005; Mileage: 150000\n",
      "Hours Worked: 50; Hourly Rate: 20\n",
      "\n",
      "Details of this Hourly Employee are:\n",
      "Employee Name: James; Employee Address: 500 W Campbell Road, Richardson, Texas, 75080\n",
      "Make: Mazda; Model: Mazda3; Year of Manufacture: 2010; Mileage: 80000\n",
      "Hours Worked: 30; Hourly Rate: 25\n"
     ]
    }
   ],
   "source": [
    "run_option2(emp_list)"
   ]
  },
  {
   "cell_type": "code",
   "execution_count": 142,
   "id": "c4261e26",
   "metadata": {},
   "outputs": [],
   "source": [
    "def run_option3(my_lst):\n",
    "    print(\"\\nEmployee name and Compensation of all Employees\")\n",
    "    print(\"=================================================\")\n",
    "    for i in range(0,len(my_lst)):\n",
    "        print(\"{0}'s weekly compensation is ${1:0.2f}\".format(my_lst[i].get_emp_name(),my_lst[i].compute_compensation()))"
   ]
  },
  {
   "cell_type": "code",
   "execution_count": 143,
   "id": "3570bf4f",
   "metadata": {},
   "outputs": [
    {
     "name": "stdout",
     "output_type": "stream",
     "text": [
      "\n",
      "Employee name and Compensation of all Employees\n",
      "=================================================\n",
      "Amy's weekly compensation is $601.92\n",
      "Bob's weekly compensation is $1131.73\n",
      "Evan's weekly compensation is $1647.12\n",
      "Grace's weekly compensation is $1160.00\n",
      "James's weekly compensation is $750.00\n",
      "Luna's weekly compensation is $300.00\n",
      "Michael's weekly compensation is $2200.00\n",
      "Tom's weekly compensation is $3500.00\n",
      "Zoey's weekly compensation is $2550.00\n"
     ]
    }
   ],
   "source": [
    "run_option3(emp_list)"
   ]
  },
  {
   "cell_type": "code",
   "execution_count": 144,
   "id": "f2d586e3",
   "metadata": {},
   "outputs": [],
   "source": [
    "def run_option4(my_lst):\n",
    "    ename_list = []\n",
    "    e_name = input(\"\\nPlease enter the name of the emplyee you want to search:\")\n",
    "    e_name=e_name.upper()\n",
    "    for i in range(0,len(my_lst)):\n",
    "        if my_lst[i].get_emp_name().upper() == e_name:\n",
    "            ename_list.append(my_lst[i])\n",
    "            \n",
    "    if len(ename_list) == 0:\n",
    "        print('There is no employee matching the name you entered.')\n",
    "        return ename_list\n",
    "    \n",
    "    print('==========================================================================')\n",
    "    print('Below is the information of all employees that match the name you entered.')\n",
    "    print('==========================================================================')\n",
    "    \n",
    "    for i in range(0, len(ename_list)):\n",
    "        print(ename_list[i])\n",
    "    return ename_list"
   ]
  },
  {
   "cell_type": "code",
   "execution_count": 145,
   "id": "57f20c72",
   "metadata": {},
   "outputs": [
    {
     "name": "stdout",
     "output_type": "stream",
     "text": [
      "\n",
      "Please enter the name of the emplyee you want to search:TOM\n",
      "==========================================================================\n",
      "Below is the information of all employees that match the name you entered.\n",
      "==========================================================================\n",
      "\n",
      "Details of this Consultant are:\n",
      "Employee Name: Tom; Employee Address: 800 W Campbell Road, Richardson, Texas, 75080\n",
      "Make: Mercedes-Benz; Model: GLE350; Year of Manufacture: 2018; Mileage: 30000\n",
      "Hours Worked: 50; Project Type: 2\n",
      "\n",
      "There are 1 employees matching your search.\n"
     ]
    }
   ],
   "source": [
    "matched_emp_list=run_option4(emp_list)\n",
    "print(\"\\nThere are {} employees matching your search.\".format(len(matched_emp_list)))"
   ]
  },
  {
   "cell_type": "code",
   "execution_count": 146,
   "id": "57e46283",
   "metadata": {},
   "outputs": [
    {
     "name": "stdout",
     "output_type": "stream",
     "text": [
      "\n",
      "Please enter the name of the emplyee you want to search:Hongchang\n",
      "There is no employee matching the name you entered.\n"
     ]
    },
    {
     "data": {
      "text/plain": [
       "[]"
      ]
     },
     "execution_count": 146,
     "metadata": {},
     "output_type": "execute_result"
    }
   ],
   "source": [
    "run_option4(emp_list)"
   ]
  },
  {
   "cell_type": "code",
   "execution_count": 147,
   "id": "f037af78",
   "metadata": {},
   "outputs": [],
   "source": [
    "def run_option5(my_lst):\n",
    "    emp_count = len(my_lst)\n",
    "    mean_comp = 0\n",
    "    max_comp = 0\n",
    "    count = 0\n",
    "    for i in range(0,len(my_lst)):\n",
    "        if my_lst[i].compute_compensation() > max_comp:\n",
    "            max_comp = my_lst[i].compute_compensation()\n",
    "        mean_comp += my_lst[i].compute_compensation()\n",
    "        if my_lst[i].get_vehicle().get_mileage() > 100000:\n",
    "            count += 1\n",
    "    print('\\n========================================================')\n",
    "    print('Below is the statistics of all employees in this database.')\n",
    "    print('========================================================')\n",
    "    print(\"There are {0} emplyees stored in this employee database.\".format(emp_count))\n",
    "    print(\"The highist weekly compensation is ${0:0.2f}.\".format(max_comp))\n",
    "    print(\"The mean weekly compensation is: ${0:0.2f}.\".format(mean_comp/emp_count))\n",
    "    print(\"The number of employees who have a vehicle with over 100,000 mileage is {0}.\".format(count))"
   ]
  },
  {
   "cell_type": "code",
   "execution_count": 148,
   "id": "93a1947b",
   "metadata": {},
   "outputs": [
    {
     "name": "stdout",
     "output_type": "stream",
     "text": [
      "\n",
      "========================================================\n",
      "Below is the statistics of all employees in this database.\n",
      "========================================================\n",
      "There are 9 emplyees stored in this employee database.\n",
      "The highist weekly compensation is $3500.00.\n",
      "The mean weekly compensation is: $1537.86.\n",
      "The number of employees who have a vehicle with over 100,000 mileage is 2.\n"
     ]
    }
   ],
   "source": [
    "run_option5(emp_list)"
   ]
  },
  {
   "cell_type": "code",
   "execution_count": 161,
   "id": "a511e09e",
   "metadata": {},
   "outputs": [],
   "source": [
    "def run_option6(emp_list):\n",
    "    matched_list=run_option4(emp_list)\n",
    "    choice=int(input(\"Which employee do you want to check (enter a number)?\"))\n",
    "    emp=matched_list[choice-1]\n",
    "    \n",
    "    weekly_expense = int(input(\"What is the annual expense?\"))\n",
    "    print(\"\\n############################################################\")\n",
    "    print(\"This employee should have a weekly reimbursement of ${:.2f}.\".format(\n",
    "        round(matched_list[choice - 1].compute_reimbursement(weekly_expense), 2)))"
   ]
  },
  {
   "cell_type": "code",
   "execution_count": 162,
   "id": "bb75c08a",
   "metadata": {},
   "outputs": [
    {
     "name": "stdout",
     "output_type": "stream",
     "text": [
      "\n",
      "Please enter the name of the emplyee you want to search:bob\n",
      "==========================================================================\n",
      "Below is the information of all employees that match the name you entered.\n",
      "==========================================================================\n",
      "\n",
      "Details of this Full Time Employee are:\n",
      "Employee Name: Bob; Employee Address: 200 W Campbell Road, Richardson, Texas, 75080\n",
      "Make: Toyota; Model: Camry; Year of Manufacture: 2010; Mileage: 60000\n",
      "Salary: 80000.00\n",
      "Which employee do you want to check (enter a number)?1\n",
      "What is the annual expense?8000\n",
      "\n",
      "############################################################\n",
      "This employee should have a weekly reimbursement of $153.85.\n"
     ]
    }
   ],
   "source": [
    "run_option6(emp_list)"
   ]
  },
  {
   "cell_type": "code",
   "execution_count": 151,
   "id": "cd749f31",
   "metadata": {},
   "outputs": [
    {
     "name": "stdout",
     "output_type": "stream",
     "text": [
      "\n",
      "Please enter the name of the emplyee you want to search:james\n",
      "==========================================================================\n",
      "Below is the information of all employees that match the name you entered.\n",
      "==========================================================================\n",
      "\n",
      "Details of this Hourly Employee are:\n",
      "Employee Name: James; Employee Address: 500 W Campbell Road, Richardson, Texas, 75080\n",
      "Make: Mazda; Model: Mazda3; Year of Manufacture: 2010; Mileage: 80000\n",
      "Hours Worked: 30; Hourly Rate: 25\n",
      "Which employee do you want to check (enter a number)?1\n",
      "What is the weekly expense?130\n",
      "\n",
      "############################################################\n",
      "This employee should have a weekly reimbursement of $100.00.\n"
     ]
    }
   ],
   "source": [
    "run_option6(emp_list)"
   ]
  },
  {
   "cell_type": "code",
   "execution_count": 152,
   "id": "5e812f6a",
   "metadata": {},
   "outputs": [],
   "source": [
    "import sys\n",
    "def run_option7(my_lst):\n",
    "    f = open('empdata.updated.dat', 'w')\n",
    "    f.close()\n",
    "    exit = input('You chose to exit the program \\nAre you sure(Y/N)?')\n",
    "    if exit.lower() == 'n':\n",
    "        print(\"\\n\\n=================================\")\n",
    "        print(\"Going back to the selection menu.\")\n",
    "        print(\"=================================\")\n",
    "    elif exit.lower() == 'y':\n",
    "        print(\"=================================\")\n",
    "        print(\"Program successfully being closed\")\n",
    "        print(\"=================================\")\n",
    "        sys.exit()\n",
    "    elif exit.lower() != 'n' or exit.lower() != 'y':\n",
    "        print(\n",
    "            \"\\n\\nYour input doesn't match any valid option and has been considered as 'N'.\\nGoing back to the selection menu.\")"
   ]
  },
  {
   "cell_type": "code",
   "execution_count": 153,
   "id": "516206d0",
   "metadata": {},
   "outputs": [
    {
     "name": "stdout",
     "output_type": "stream",
     "text": [
      "You chose to exit the program \n",
      "Are you sure(Y/N)?b\n",
      "\n",
      "\n",
      "Your input doesn't match any valid option and has been considered as 'N'.\n",
      "Going back to the selection menu.\n"
     ]
    }
   ],
   "source": [
    "run_option7(emp_list)"
   ]
  },
  {
   "cell_type": "code",
   "execution_count": 154,
   "id": "6fa36594",
   "metadata": {},
   "outputs": [
    {
     "name": "stdout",
     "output_type": "stream",
     "text": [
      "You chose to exit the program \n",
      "Are you sure(Y/N)?n\n",
      "\n",
      "\n",
      "=================================\n",
      "Going back to the selection menu.\n",
      "=================================\n"
     ]
    }
   ],
   "source": [
    "run_option7(emp_list)"
   ]
  },
  {
   "cell_type": "code",
   "execution_count": 155,
   "id": "124bc543",
   "metadata": {},
   "outputs": [
    {
     "name": "stdout",
     "output_type": "stream",
     "text": [
      "You chose to exit the program \n",
      "Are you sure(Y/N)?y\n",
      "=================================\n",
      "Program successfully being closed\n",
      "=================================\n"
     ]
    },
    {
     "ename": "SystemExit",
     "evalue": "",
     "output_type": "error",
     "traceback": [
      "An exception has occurred, use %tb to see the full traceback.\n",
      "\u001b[1;31mSystemExit\u001b[0m\n"
     ]
    }
   ],
   "source": [
    "run_option7(emp_list)"
   ]
  },
  {
   "cell_type": "code",
   "execution_count": 157,
   "id": "98b35188",
   "metadata": {},
   "outputs": [
    {
     "name": "stdout",
     "output_type": "stream",
     "text": [
      "\n",
      "==== Menu ====\n",
      "1. To add an employee\n",
      "2. To print the name and address of employees\n",
      "3. To print the employee name and compensation of all employees\n",
      "4. To search for employees by name\n",
      "5. To check the basic statistics of employees\n",
      "6. To calculate the reimbursement of one employee\n",
      "7. To exit program\n",
      "Your selection is: 0\n",
      "\n",
      "=========================================\n",
      "You must enter an integer between 1 and 7!\n",
      "=========================================\n",
      "\n",
      "==== Menu ====\n",
      "1. To add an employee\n",
      "2. To print the name and address of employees\n",
      "3. To print the employee name and compensation of all employees\n",
      "4. To search for employees by name\n",
      "5. To check the basic statistics of employees\n",
      "6. To calculate the reimbursement of one employee\n",
      "7. To exit program\n",
      "Your selection is: 8\n",
      "\n",
      "=========================================\n",
      "You must enter an integer between 1 and 7!\n",
      "=========================================\n",
      "\n",
      "==== Menu ====\n",
      "1. To add an employee\n",
      "2. To print the name and address of employees\n",
      "3. To print the employee name and compensation of all employees\n",
      "4. To search for employees by name\n",
      "5. To check the basic statistics of employees\n",
      "6. To calculate the reimbursement of one employee\n",
      "7. To exit program\n",
      "Your selection is: zzz\n",
      "\n",
      "=========================================\n",
      "You must enter an integer between 1 and 7!\n",
      "=========================================\n",
      "\n",
      "==== Menu ====\n",
      "1. To add an employee\n",
      "2. To print the name and address of employees\n",
      "3. To print the employee name and compensation of all employees\n",
      "4. To search for employees by name\n",
      "5. To check the basic statistics of employees\n",
      "6. To calculate the reimbursement of one employee\n",
      "7. To exit program\n",
      "Your selection is: 7\n",
      "You chose to exit the program \n",
      "Are you sure(Y/N)?n\n",
      "\n",
      "\n",
      "=================================\n",
      "Going back to the selection menu.\n",
      "=================================\n",
      "\n",
      "==== Menu ====\n",
      "1. To add an employee\n",
      "2. To print the name and address of employees\n",
      "3. To print the employee name and compensation of all employees\n",
      "4. To search for employees by name\n",
      "5. To check the basic statistics of employees\n",
      "6. To calculate the reimbursement of one employee\n",
      "7. To exit program\n",
      "Your selection is: 7\n",
      "You chose to exit the program \n",
      "Are you sure(Y/N)?y\n",
      "=================================\n",
      "Program successfully being closed\n",
      "=================================\n"
     ]
    },
    {
     "ename": "SystemExit",
     "evalue": "",
     "output_type": "error",
     "traceback": [
      "An exception has occurred, use %tb to see the full traceback.\n",
      "\u001b[1;31mSystemExit\u001b[0m\n"
     ]
    }
   ],
   "source": [
    "run_menu_options()"
   ]
  },
  {
   "cell_type": "code",
   "execution_count": 158,
   "id": "03ea2e6f",
   "metadata": {},
   "outputs": [
    {
     "name": "stdout",
     "output_type": "stream",
     "text": [
      "\n",
      "==== Menu ====\n",
      "1. To add an employee\n",
      "2. To print the name and address of employees\n",
      "3. To print the employee name and compensation of all employees\n",
      "4. To search for employees by name\n",
      "5. To check the basic statistics of employees\n",
      "6. To calculate the reimbursement of one employee\n",
      "7. To exit program\n",
      "Your selection is: 1\n",
      "Enter the employee type(1-Full Time;2-Hourly;3-Consultant;4-Management)4\n",
      "Enter the employee's name: David\n",
      "Enter the employee's address: 103 E Campbell Road, Richardson, Texas, 75080\n",
      "Enter the vehicle make: BMW\n",
      "Enter the vehicle model: X3\n",
      "Enter the year of manufacture (yyyy): 2018\n",
      "Enter the mileage: 5000\n",
      "Enter the annual salary: 110000\n",
      "Enter the hours worked: 5\n",
      "Project Type? (Enter a number between 1 and 3): 2\n",
      "\n",
      "Details of this Management are: \n",
      "Employee Name: David; Employee Address: 103 E Campbell Road, Richardson, Texas, 75080\n",
      "Make: BMW; Model: X3; Year of Manufacture: 2018; Mileage: 5000\n",
      "Salary: 110000.00; Hours Worked: 5; Project Type: 2\n",
      "\n",
      "============================================================\n",
      "New employee entered successfully! Now going to the main menu.\n",
      "==============================================================\n",
      "\n",
      "==== Menu ====\n",
      "1. To add an employee\n",
      "2. To print the name and address of employees\n",
      "3. To print the employee name and compensation of all employees\n",
      "4. To search for employees by name\n",
      "5. To check the basic statistics of employees\n",
      "6. To calculate the reimbursement of one employee\n",
      "7. To exit program\n",
      "Your selection is: 1\n",
      "Enter the employee type(1-Full Time;2-Hourly;3-Consultant;4-Management)4\n",
      "Enter the employee's name: Grace\n",
      "Enter the employee's address: 105 E Campbell Road, Richardson, Texas, 75080\n",
      "Enter the vehicle make: Porsche\n",
      "Enter the vehicle model: Cayenne\n",
      "Enter the year of manufacture (yyyy): 2019\n",
      "Enter the mileage: 3000\n",
      "Enter the annual salary: 180000\n",
      "Enter the hours worked: 8\n",
      "Project Type? (Enter a number between 1 and 3): 1\n",
      "\n",
      "Details of this Management are: \n",
      "Employee Name: Grace; Employee Address: 105 E Campbell Road, Richardson, Texas, 75080\n",
      "Make: Porsche; Model: Cayenne; Year of Manufacture: 2019; Mileage: 3000\n",
      "Salary: 180000.00; Hours Worked: 8; Project Type: 1\n",
      "\n",
      "============================================================\n",
      "New employee entered successfully! Now going to the main menu.\n",
      "==============================================================\n",
      "\n",
      "==== Menu ====\n",
      "1. To add an employee\n",
      "2. To print the name and address of employees\n",
      "3. To print the employee name and compensation of all employees\n",
      "4. To search for employees by name\n",
      "5. To check the basic statistics of employees\n",
      "6. To calculate the reimbursement of one employee\n",
      "7. To exit program\n",
      "Your selection is: 1\n",
      "Enter the employee type(1-Full Time;2-Hourly;3-Consultant;4-Management)4\n",
      "Enter the employee's name: Zoey\n",
      "Enter the employee's address: 107 E Campbell Road, Richardson, Texas, 75080\n",
      "Enter the vehicle make: Audi\n",
      "Enter the vehicle model: A3\n",
      "Enter the year of manufacture (yyyy): 2022\n",
      "Enter the mileage: 3000\n",
      "Enter the annual salary: 90000\n",
      "Enter the hours worked: 10\n",
      "Project Type? (Enter a number between 1 and 3): 3\n",
      "\n",
      "Details of this Management are: \n",
      "Employee Name: Zoey; Employee Address: 107 E Campbell Road, Richardson, Texas, 75080\n",
      "Make: Audi; Model: A3; Year of Manufacture: 2022; Mileage: 3000\n",
      "Salary: 90000.00; Hours Worked: 10; Project Type: 3\n",
      "\n",
      "============================================================\n",
      "New employee entered successfully! Now going to the main menu.\n",
      "==============================================================\n",
      "\n",
      "==== Menu ====\n",
      "1. To add an employee\n",
      "2. To print the name and address of employees\n",
      "3. To print the employee name and compensation of all employees\n",
      "4. To search for employees by name\n",
      "5. To check the basic statistics of employees\n",
      "6. To calculate the reimbursement of one employee\n",
      "7. To exit program\n",
      "Your selection is: 2\n",
      "Do you want to see information of all employees (input 1) or the first 5 employees (input 2)? 1\n",
      "\n",
      "============================================================\n",
      "Below is the information of all the employees stored in the database.\n",
      "==============================================================\n",
      "\n",
      "Details of this Full Time Employee are:\n",
      "Employee Name: Amy; Employee Address: 100 W Campbell Road, Richardson, Texas, 75080\n",
      "Make: Honda; Model: Civic; Year of Manufacture: 2014; Mileage: 50000\n",
      "Salary: 40000.00\n",
      "\n",
      "Details of this Full Time Employee are:\n",
      "Employee Name: Bob; Employee Address: 200 W Campbell Road, Richardson, Texas, 75080\n",
      "Make: Toyota; Model: Camry; Year of Manufacture: 2010; Mileage: 60000\n",
      "Salary: 80000.00\n",
      "\n",
      "Details of this Full Time Employee are:\n",
      "Employee Name: Evan; Employee Address: 300 W Campbell Road, Richardson, Texas, 75080\n",
      "Make: BMW; Model: X3; Year of Manufacture: 2016; Mileage: 30000\n",
      "Salary: 120000.00\n",
      "\n",
      "Details of this Hourly Employee are:\n",
      "Employee Name: Grace; Employee Address: 400 W Campbell Road, Richardson, Texas, 75080\n",
      "Make: Kia; Model: Rio; Year of Manufacture: 2005; Mileage: 150000\n",
      "Hours Worked: 50; Hourly Rate: 20\n",
      "\n",
      "Details of this Hourly Employee are:\n",
      "Employee Name: James; Employee Address: 500 W Campbell Road, Richardson, Texas, 75080\n",
      "Make: Mazda; Model: Mazda3; Year of Manufacture: 2010; Mileage: 80000\n",
      "Hours Worked: 30; Hourly Rate: 25\n",
      "\n",
      "Details of this Hourly Employee are:\n",
      "Employee Name: Luna; Employee Address: 600 W Campbell Road, Richardson, Texas, 75080\n",
      "Make: Nissan; Model: Sentra; Year of Manufacture: 2005; Mileage: 160000\n",
      "Hours Worked: 20; Hourly Rate: 15\n",
      "\n",
      "Details of this Consultant are:\n",
      "Employee Name: Michael; Employee Address: 700 W Campbell Road, Richardson, Texas, 75080\n",
      "Make: Ford; Model: Ranger; Year of Manufacture: 2011; Mileage: 80000\n",
      "Hours Worked: 40; Project Type: 1\n",
      "\n",
      "Details of this Consultant are:\n",
      "Employee Name: Tom; Employee Address: 800 W Campbell Road, Richardson, Texas, 75080\n",
      "Make: Mercedes-Benz; Model: GLE350; Year of Manufacture: 2018; Mileage: 30000\n",
      "Hours Worked: 50; Project Type: 2\n",
      "\n",
      "Details of this Consultant are:\n",
      "Employee Name: Zoey; Employee Address: 900 W Campbell Road, Richardson, Texas, 75080\n",
      "Make: Tesla; Model: Model3; Year of Manufacture: 2018; Mileage: 15000\n",
      "Hours Worked: 30; Project Type: 3\n",
      "\n",
      "Details of this Management are: \n",
      "Employee Name: David; Employee Address: 103 E Campbell Road, Richardson, Texas, 75080\n",
      "Make: BMW; Model: X3; Year of Manufacture: 2018; Mileage: 5000\n",
      "Salary: 110000.00; Hours Worked: 5; Project Type: 2\n",
      "\n",
      "Details of this Management are: \n",
      "Employee Name: Grace; Employee Address: 105 E Campbell Road, Richardson, Texas, 75080\n",
      "Make: Porsche; Model: Cayenne; Year of Manufacture: 2019; Mileage: 3000\n",
      "Salary: 180000.00; Hours Worked: 8; Project Type: 1\n",
      "\n",
      "Details of this Management are: \n",
      "Employee Name: Zoey; Employee Address: 107 E Campbell Road, Richardson, Texas, 75080\n",
      "Make: Audi; Model: A3; Year of Manufacture: 2022; Mileage: 3000\n",
      "Salary: 90000.00; Hours Worked: 10; Project Type: 3\n",
      "\n",
      "==== Menu ====\n",
      "1. To add an employee\n",
      "2. To print the name and address of employees\n",
      "3. To print the employee name and compensation of all employees\n",
      "4. To search for employees by name\n",
      "5. To check the basic statistics of employees\n",
      "6. To calculate the reimbursement of one employee\n",
      "7. To exit program\n",
      "Your selection is: 3\n",
      "\n",
      "Employee name and Compensation of all Employees\n",
      "=================================================\n",
      "Amy's weekly compensation is $601.92\n",
      "Bob's weekly compensation is $1131.73\n",
      "Evan's weekly compensation is $1647.12\n",
      "Grace's weekly compensation is $1160.00\n",
      "James's weekly compensation is $750.00\n",
      "Luna's weekly compensation is $300.00\n",
      "Michael's weekly compensation is $2200.00\n",
      "Tom's weekly compensation is $3500.00\n",
      "Zoey's weekly compensation is $2550.00\n",
      "David's weekly compensation is $1868.27\n",
      "Grace's weekly compensation is $2860.19\n",
      "Zoey's weekly compensation is $2110.58\n",
      "\n",
      "==== Menu ====\n",
      "1. To add an employee\n",
      "2. To print the name and address of employees\n",
      "3. To print the employee name and compensation of all employees\n",
      "4. To search for employees by name\n",
      "5. To check the basic statistics of employees\n",
      "6. To calculate the reimbursement of one employee\n",
      "7. To exit program\n",
      "Your selection is: 4\n",
      "\n",
      "Please enter the name of the emplyee you want to search:grace\n",
      "==========================================================================\n",
      "Below is the information of all employees that match the name you entered.\n",
      "==========================================================================\n",
      "\n",
      "Details of this Hourly Employee are:\n",
      "Employee Name: Grace; Employee Address: 400 W Campbell Road, Richardson, Texas, 75080\n",
      "Make: Kia; Model: Rio; Year of Manufacture: 2005; Mileage: 150000\n",
      "Hours Worked: 50; Hourly Rate: 20\n",
      "\n",
      "Details of this Management are: \n",
      "Employee Name: Grace; Employee Address: 105 E Campbell Road, Richardson, Texas, 75080\n",
      "Make: Porsche; Model: Cayenne; Year of Manufacture: 2019; Mileage: 3000\n",
      "Salary: 180000.00; Hours Worked: 8; Project Type: 1\n",
      "\n",
      "==== Menu ====\n",
      "1. To add an employee\n",
      "2. To print the name and address of employees\n",
      "3. To print the employee name and compensation of all employees\n",
      "4. To search for employees by name\n",
      "5. To check the basic statistics of employees\n",
      "6. To calculate the reimbursement of one employee\n",
      "7. To exit program\n",
      "Your selection is: 5\n",
      "\n",
      "========================================================\n",
      "Below is the statistics of all employees in this database.\n",
      "========================================================\n",
      "There are 12 emplyees stored in this employee database.\n",
      "The highist weekly compensation is $3500.00.\n",
      "The mean weekly compensation is: $1723.32.\n",
      "The number of employees who have a vehicle with over 100,000 mileage is 2.\n",
      "\n",
      "==== Menu ====\n",
      "1. To add an employee\n",
      "2. To print the name and address of employees\n",
      "3. To print the employee name and compensation of all employees\n",
      "4. To search for employees by name\n",
      "5. To check the basic statistics of employees\n",
      "6. To calculate the reimbursement of one employee\n",
      "7. To exit program\n",
      "Your selection is: 6\n",
      "\n",
      "Please enter the name of the emplyee you want to search:ZOEY\n",
      "==========================================================================\n",
      "Below is the information of all employees that match the name you entered.\n",
      "==========================================================================\n",
      "\n",
      "Details of this Consultant are:\n",
      "Employee Name: Zoey; Employee Address: 900 W Campbell Road, Richardson, Texas, 75080\n",
      "Make: Tesla; Model: Model3; Year of Manufacture: 2018; Mileage: 15000\n",
      "Hours Worked: 30; Project Type: 3\n",
      "\n",
      "Details of this Management are: \n",
      "Employee Name: Zoey; Employee Address: 107 E Campbell Road, Richardson, Texas, 75080\n",
      "Make: Audi; Model: A3; Year of Manufacture: 2022; Mileage: 3000\n",
      "Salary: 90000.00; Hours Worked: 10; Project Type: 3\n",
      "Which employee do you want to check (enter a number)?1\n",
      "What is the weekly expense?120\n",
      "\n",
      "############################################################\n",
      "This employee should have a weekly reimbursement of $96.00.\n",
      "\n",
      "==== Menu ====\n",
      "1. To add an employee\n",
      "2. To print the name and address of employees\n",
      "3. To print the employee name and compensation of all employees\n",
      "4. To search for employees by name\n",
      "5. To check the basic statistics of employees\n",
      "6. To calculate the reimbursement of one employee\n",
      "7. To exit program\n",
      "Your selection is: 7\n",
      "You chose to exit the program \n",
      "Are you sure(Y/N)?y\n",
      "=================================\n",
      "Program successfully being closed\n",
      "=================================\n"
     ]
    },
    {
     "ename": "SystemExit",
     "evalue": "",
     "output_type": "error",
     "traceback": [
      "An exception has occurred, use %tb to see the full traceback.\n",
      "\u001b[1;31mSystemExit\u001b[0m\n"
     ]
    }
   ],
   "source": [
    "run_menu_options()"
   ]
  },
  {
   "cell_type": "code",
   "execution_count": null,
   "id": "72b5fcec",
   "metadata": {},
   "outputs": [],
   "source": []
  }
 ],
 "metadata": {
  "kernelspec": {
   "display_name": "Python 3 (ipykernel)",
   "language": "python",
   "name": "python3"
  },
  "language_info": {
   "codemirror_mode": {
    "name": "ipython",
    "version": 3
   },
   "file_extension": ".py",
   "mimetype": "text/x-python",
   "name": "python",
   "nbconvert_exporter": "python",
   "pygments_lexer": "ipython3",
   "version": "3.9.13"
  }
 },
 "nbformat": 4,
 "nbformat_minor": 5
}
